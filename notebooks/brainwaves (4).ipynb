{
 "cells": [
  {
   "cell_type": "code",
   "execution_count": 2,
   "metadata": {
    "collapsed": false
   },
   "outputs": [
    {
     "name": "stderr",
     "output_type": "stream",
     "text": [
      "Using TensorFlow backend.\n",
      "Couldn't import dot_parser, loading of dot files will not be possible.\n"
     ]
    }
   ],
   "source": [
    "%matplotlib inline\n",
    "import pandas as pd\n",
    "import numpy as np\n",
    "from sklearn.preprocessing import LabelEncoder\n",
    "from sklearn.preprocessing import OneHotEncoder\n",
    "from sklearn.model_selection import GridSearchCV\n",
    "from keras.models import Sequential\n",
    "from keras.layers import Dense\n",
    "from keras.layers import Dropout"
   ]
  },
  {
   "cell_type": "markdown",
   "metadata": {},
   "source": [
    "## Loading train data"
   ]
  },
  {
   "cell_type": "code",
   "execution_count": 3,
   "metadata": {
    "collapsed": false
   },
   "outputs": [
    {
     "data": {
      "text/plain": [
       "portfolio_id         0\n",
       "desk_id           1948\n",
       "office_id            0\n",
       "pf_category          0\n",
       "start_date           0\n",
       "sold                 0\n",
       "country_code         0\n",
       "euribor_rate         0\n",
       "currency             0\n",
       "libor_rate         265\n",
       "bought               0\n",
       "creation_date        0\n",
       "indicator_code    2851\n",
       "sell_date            0\n",
       "type                 0\n",
       "hedge_value       2851\n",
       "status            1457\n",
       "dtype: int64"
      ]
     },
     "execution_count": 3,
     "metadata": {},
     "output_type": "execute_result"
    }
   ],
   "source": [
    "df_train = pd.read_csv(\"/resources/data/brainwaves/train.csv\")\n",
    "df_test = pd.read_csv(\"/resources/data/brainwaves/test.csv\")\n",
    "#df.head()\n",
    "df_test.isnull().sum()\n"
   ]
  },
  {
   "cell_type": "markdown",
   "metadata": {},
   "source": [
    "## Finding correlation between raw features"
   ]
  },
  {
   "cell_type": "code",
   "execution_count": 4,
   "metadata": {
    "collapsed": false
   },
   "outputs": [
    {
     "data": {
      "text/html": [
       "<div>\n",
       "<table border=\"1\" class=\"dataframe\">\n",
       "  <thead>\n",
       "    <tr style=\"text-align: right;\">\n",
       "      <th></th>\n",
       "      <th>start_date</th>\n",
       "      <th>sold</th>\n",
       "      <th>euribor_rate</th>\n",
       "      <th>libor_rate</th>\n",
       "      <th>bought</th>\n",
       "      <th>creation_date</th>\n",
       "      <th>sell_date</th>\n",
       "      <th>return</th>\n",
       "    </tr>\n",
       "  </thead>\n",
       "  <tbody>\n",
       "    <tr>\n",
       "      <th>start_date</th>\n",
       "      <td>1.000000</td>\n",
       "      <td>-0.124866</td>\n",
       "      <td>-0.755212</td>\n",
       "      <td>-0.727701</td>\n",
       "      <td>-0.124432</td>\n",
       "      <td>0.999977</td>\n",
       "      <td>0.997442</td>\n",
       "      <td>-0.504295</td>\n",
       "    </tr>\n",
       "    <tr>\n",
       "      <th>sold</th>\n",
       "      <td>-0.124866</td>\n",
       "      <td>1.000000</td>\n",
       "      <td>0.184441</td>\n",
       "      <td>0.114494</td>\n",
       "      <td>0.999999</td>\n",
       "      <td>-0.124850</td>\n",
       "      <td>-0.127505</td>\n",
       "      <td>0.086938</td>\n",
       "    </tr>\n",
       "    <tr>\n",
       "      <th>euribor_rate</th>\n",
       "      <td>-0.755212</td>\n",
       "      <td>0.184441</td>\n",
       "      <td>1.000000</td>\n",
       "      <td>0.804120</td>\n",
       "      <td>0.183944</td>\n",
       "      <td>-0.755203</td>\n",
       "      <td>-0.754965</td>\n",
       "      <td>0.648551</td>\n",
       "    </tr>\n",
       "    <tr>\n",
       "      <th>libor_rate</th>\n",
       "      <td>-0.727701</td>\n",
       "      <td>0.114494</td>\n",
       "      <td>0.804120</td>\n",
       "      <td>1.000000</td>\n",
       "      <td>0.113923</td>\n",
       "      <td>-0.727665</td>\n",
       "      <td>-0.724785</td>\n",
       "      <td>0.701278</td>\n",
       "    </tr>\n",
       "    <tr>\n",
       "      <th>bought</th>\n",
       "      <td>-0.124432</td>\n",
       "      <td>0.999999</td>\n",
       "      <td>0.183944</td>\n",
       "      <td>0.113923</td>\n",
       "      <td>1.000000</td>\n",
       "      <td>-0.124415</td>\n",
       "      <td>-0.127078</td>\n",
       "      <td>0.086353</td>\n",
       "    </tr>\n",
       "    <tr>\n",
       "      <th>creation_date</th>\n",
       "      <td>0.999977</td>\n",
       "      <td>-0.124850</td>\n",
       "      <td>-0.755203</td>\n",
       "      <td>-0.727665</td>\n",
       "      <td>-0.124415</td>\n",
       "      <td>1.000000</td>\n",
       "      <td>0.997421</td>\n",
       "      <td>-0.504261</td>\n",
       "    </tr>\n",
       "    <tr>\n",
       "      <th>sell_date</th>\n",
       "      <td>0.997442</td>\n",
       "      <td>-0.127505</td>\n",
       "      <td>-0.754965</td>\n",
       "      <td>-0.724785</td>\n",
       "      <td>-0.127078</td>\n",
       "      <td>0.997421</td>\n",
       "      <td>1.000000</td>\n",
       "      <td>-0.503353</td>\n",
       "    </tr>\n",
       "    <tr>\n",
       "      <th>return</th>\n",
       "      <td>-0.504295</td>\n",
       "      <td>0.086938</td>\n",
       "      <td>0.648551</td>\n",
       "      <td>0.701278</td>\n",
       "      <td>0.086353</td>\n",
       "      <td>-0.504261</td>\n",
       "      <td>-0.503353</td>\n",
       "      <td>1.000000</td>\n",
       "    </tr>\n",
       "  </tbody>\n",
       "</table>\n",
       "</div>"
      ],
      "text/plain": [
       "               start_date      sold  euribor_rate  libor_rate    bought  \\\n",
       "start_date       1.000000 -0.124866     -0.755212   -0.727701 -0.124432   \n",
       "sold            -0.124866  1.000000      0.184441    0.114494  0.999999   \n",
       "euribor_rate    -0.755212  0.184441      1.000000    0.804120  0.183944   \n",
       "libor_rate      -0.727701  0.114494      0.804120    1.000000  0.113923   \n",
       "bought          -0.124432  0.999999      0.183944    0.113923  1.000000   \n",
       "creation_date    0.999977 -0.124850     -0.755203   -0.727665 -0.124415   \n",
       "sell_date        0.997442 -0.127505     -0.754965   -0.724785 -0.127078   \n",
       "return          -0.504295  0.086938      0.648551    0.701278  0.086353   \n",
       "\n",
       "               creation_date  sell_date    return  \n",
       "start_date          0.999977   0.997442 -0.504295  \n",
       "sold               -0.124850  -0.127505  0.086938  \n",
       "euribor_rate       -0.755203  -0.754965  0.648551  \n",
       "libor_rate         -0.727665  -0.724785  0.701278  \n",
       "bought             -0.124415  -0.127078  0.086353  \n",
       "creation_date       1.000000   0.997421 -0.504261  \n",
       "sell_date           0.997421   1.000000 -0.503353  \n",
       "return             -0.504261  -0.503353  1.000000  "
      ]
     },
     "execution_count": 4,
     "metadata": {},
     "output_type": "execute_result"
    }
   ],
   "source": [
    "df_train.corr()"
   ]
  },
  {
   "cell_type": "code",
   "execution_count": 5,
   "metadata": {
    "collapsed": false
   },
   "outputs": [
    {
     "data": {
      "text/plain": [
       "Index([u'portfolio_id', u'desk_id', u'office_id', u'pf_category',\n",
       "       u'start_date', u'sold', u'country_code', u'euribor_rate', u'currency',\n",
       "       u'libor_rate', u'bought', u'creation_date', u'indicator_code',\n",
       "       u'sell_date', u'type', u'hedge_value', u'status', u'return'],\n",
       "      dtype='object')"
      ]
     },
     "execution_count": 5,
     "metadata": {},
     "output_type": "execute_result"
    }
   ],
   "source": [
    "df_train.columns"
   ]
  },
  {
   "cell_type": "markdown",
   "metadata": {},
   "source": [
    "## Combining train and test datasets for pre-processing"
   ]
  },
  {
   "cell_type": "code",
   "execution_count": 6,
   "metadata": {
    "collapsed": true
   },
   "outputs": [],
   "source": [
    "#joining test and train datasets\n",
    "df= pd.concat([df_train, df_test], axis=0, join='outer')"
   ]
  },
  {
   "cell_type": "markdown",
   "metadata": {},
   "source": [
    "## Feature Engineering"
   ]
  },
  {
   "cell_type": "code",
   "execution_count": 7,
   "metadata": {
    "collapsed": false
   },
   "outputs": [
    {
     "data": {
      "text/html": [
       "<div>\n",
       "<table border=\"1\" class=\"dataframe\">\n",
       "  <thead>\n",
       "    <tr style=\"text-align: right;\">\n",
       "      <th></th>\n",
       "      <th>office_id</th>\n",
       "      <th>country_code</th>\n",
       "    </tr>\n",
       "  </thead>\n",
       "  <tbody>\n",
       "    <tr>\n",
       "      <th>0</th>\n",
       "      <td>OFF00001002</td>\n",
       "      <td>T</td>\n",
       "    </tr>\n",
       "    <tr>\n",
       "      <th>1</th>\n",
       "      <td>OFF00001001</td>\n",
       "      <td>N</td>\n",
       "    </tr>\n",
       "    <tr>\n",
       "      <th>2</th>\n",
       "      <td>OFF00001001</td>\n",
       "      <td>T</td>\n",
       "    </tr>\n",
       "    <tr>\n",
       "      <th>3</th>\n",
       "      <td>OFF00001001</td>\n",
       "      <td>T</td>\n",
       "    </tr>\n",
       "    <tr>\n",
       "      <th>4</th>\n",
       "      <td>OFF00001002</td>\n",
       "      <td>T</td>\n",
       "    </tr>\n",
       "  </tbody>\n",
       "</table>\n",
       "</div>"
      ],
      "text/plain": [
       "     office_id country_code\n",
       "0  OFF00001002            T\n",
       "1  OFF00001001            N\n",
       "2  OFF00001001            T\n",
       "3  OFF00001001            T\n",
       "4  OFF00001002            T"
      ]
     },
     "execution_count": 7,
     "metadata": {},
     "output_type": "execute_result"
    }
   ],
   "source": [
    "df_train.loc[:,['office_id', 'country_code']].head()"
   ]
  },
  {
   "cell_type": "code",
   "execution_count": 8,
   "metadata": {
    "collapsed": true
   },
   "outputs": [],
   "source": [
    "#filling missing libor rate values with the mean of libor rate\n",
    "df['libor_rate'].fillna(df['libor_rate'].mean(), inplace=True)"
   ]
  },
  {
   "cell_type": "code",
   "execution_count": 9,
   "metadata": {
    "collapsed": false
   },
   "outputs": [
    {
     "data": {
      "text/html": [
       "<div>\n",
       "<table border=\"1\" class=\"dataframe\">\n",
       "  <thead>\n",
       "    <tr style=\"text-align: right;\">\n",
       "      <th></th>\n",
       "      <th>bought</th>\n",
       "      <th>creation_date</th>\n",
       "      <th>euribor_rate</th>\n",
       "      <th>libor_rate</th>\n",
       "      <th>return</th>\n",
       "      <th>sold</th>\n",
       "      <th>profit</th>\n",
       "      <th>holding_period</th>\n",
       "      <th>interest</th>\n",
       "    </tr>\n",
       "  </thead>\n",
       "  <tbody>\n",
       "    <tr>\n",
       "      <th>bought</th>\n",
       "      <td>1.000000</td>\n",
       "      <td>-0.140151</td>\n",
       "      <td>0.210422</td>\n",
       "      <td>0.120805</td>\n",
       "      <td>0.086353</td>\n",
       "      <td>0.999999</td>\n",
       "      <td>0.258676</td>\n",
       "      <td>-0.137848</td>\n",
       "      <td>0.226129</td>\n",
       "    </tr>\n",
       "    <tr>\n",
       "      <th>creation_date</th>\n",
       "      <td>-0.140151</td>\n",
       "      <td>1.000000</td>\n",
       "      <td>-0.755112</td>\n",
       "      <td>-0.723239</td>\n",
       "      <td>-0.504261</td>\n",
       "      <td>-0.140600</td>\n",
       "      <td>-0.347486</td>\n",
       "      <td>0.131104</td>\n",
       "      <td>-0.336553</td>\n",
       "    </tr>\n",
       "    <tr>\n",
       "      <th>euribor_rate</th>\n",
       "      <td>0.210422</td>\n",
       "      <td>-0.755112</td>\n",
       "      <td>1.000000</td>\n",
       "      <td>0.800831</td>\n",
       "      <td>0.648551</td>\n",
       "      <td>0.210947</td>\n",
       "      <td>0.418994</td>\n",
       "      <td>-0.122452</td>\n",
       "      <td>0.377244</td>\n",
       "    </tr>\n",
       "    <tr>\n",
       "      <th>libor_rate</th>\n",
       "      <td>0.120805</td>\n",
       "      <td>-0.723239</td>\n",
       "      <td>0.800831</td>\n",
       "      <td>1.000000</td>\n",
       "      <td>0.590431</td>\n",
       "      <td>0.121397</td>\n",
       "      <td>0.442434</td>\n",
       "      <td>0.033549</td>\n",
       "      <td>0.500406</td>\n",
       "    </tr>\n",
       "    <tr>\n",
       "      <th>return</th>\n",
       "      <td>0.086353</td>\n",
       "      <td>-0.504261</td>\n",
       "      <td>0.648551</td>\n",
       "      <td>0.590431</td>\n",
       "      <td>1.000000</td>\n",
       "      <td>0.086938</td>\n",
       "      <td>0.455079</td>\n",
       "      <td>-0.037753</td>\n",
       "      <td>0.270207</td>\n",
       "    </tr>\n",
       "    <tr>\n",
       "      <th>sold</th>\n",
       "      <td>0.999999</td>\n",
       "      <td>-0.140600</td>\n",
       "      <td>0.210947</td>\n",
       "      <td>0.121397</td>\n",
       "      <td>0.086938</td>\n",
       "      <td>1.000000</td>\n",
       "      <td>0.260020</td>\n",
       "      <td>-0.137588</td>\n",
       "      <td>0.227114</td>\n",
       "    </tr>\n",
       "    <tr>\n",
       "      <th>profit</th>\n",
       "      <td>0.258676</td>\n",
       "      <td>-0.347486</td>\n",
       "      <td>0.418994</td>\n",
       "      <td>0.442434</td>\n",
       "      <td>0.455079</td>\n",
       "      <td>0.260020</td>\n",
       "      <td>1.000000</td>\n",
       "      <td>0.144069</td>\n",
       "      <td>0.742145</td>\n",
       "    </tr>\n",
       "    <tr>\n",
       "      <th>holding_period</th>\n",
       "      <td>-0.137848</td>\n",
       "      <td>0.131104</td>\n",
       "      <td>-0.122452</td>\n",
       "      <td>0.033549</td>\n",
       "      <td>-0.037753</td>\n",
       "      <td>-0.137588</td>\n",
       "      <td>0.144069</td>\n",
       "      <td>1.000000</td>\n",
       "      <td>0.228173</td>\n",
       "    </tr>\n",
       "    <tr>\n",
       "      <th>interest</th>\n",
       "      <td>0.226129</td>\n",
       "      <td>-0.336553</td>\n",
       "      <td>0.377244</td>\n",
       "      <td>0.500406</td>\n",
       "      <td>0.270207</td>\n",
       "      <td>0.227114</td>\n",
       "      <td>0.742145</td>\n",
       "      <td>0.228173</td>\n",
       "      <td>1.000000</td>\n",
       "    </tr>\n",
       "  </tbody>\n",
       "</table>\n",
       "</div>"
      ],
      "text/plain": [
       "                  bought  creation_date  euribor_rate  libor_rate    return  \\\n",
       "bought          1.000000      -0.140151      0.210422    0.120805  0.086353   \n",
       "creation_date  -0.140151       1.000000     -0.755112   -0.723239 -0.504261   \n",
       "euribor_rate    0.210422      -0.755112      1.000000    0.800831  0.648551   \n",
       "libor_rate      0.120805      -0.723239      0.800831    1.000000  0.590431   \n",
       "return          0.086353      -0.504261      0.648551    0.590431  1.000000   \n",
       "sold            0.999999      -0.140600      0.210947    0.121397  0.086938   \n",
       "profit          0.258676      -0.347486      0.418994    0.442434  0.455079   \n",
       "holding_period -0.137848       0.131104     -0.122452    0.033549 -0.037753   \n",
       "interest        0.226129      -0.336553      0.377244    0.500406  0.270207   \n",
       "\n",
       "                    sold    profit  holding_period  interest  \n",
       "bought          0.999999  0.258676       -0.137848  0.226129  \n",
       "creation_date  -0.140600 -0.347486        0.131104 -0.336553  \n",
       "euribor_rate    0.210947  0.418994       -0.122452  0.377244  \n",
       "libor_rate      0.121397  0.442434        0.033549  0.500406  \n",
       "return          0.086938  0.455079       -0.037753  0.270207  \n",
       "sold            1.000000  0.260020       -0.137588  0.227114  \n",
       "profit          0.260020  1.000000        0.144069  0.742145  \n",
       "holding_period -0.137588  0.144069        1.000000  0.228173  \n",
       "interest        0.227114  0.742145        0.228173  1.000000  "
      ]
     },
     "execution_count": 9,
     "metadata": {},
     "output_type": "execute_result"
    }
   ],
   "source": [
    "df['profit'] = df['sold'] - df['bought']\n",
    "df['sell_date'] =pd.to_datetime(df['sell_date'] , format='%Y%m%d', errors='ignore')\n",
    "df['start_date'] =pd.to_datetime(df['start_date'] , format='%Y%m%d', errors='ignore')\n",
    "\n",
    "import datetime as dt\n",
    "df['holding_period'] = (df['sell_date'] - \n",
    "                              df['start_date']).dt.days\n",
    "#df_train.corr()\n",
    "\n",
    "df['interest'] = df['bought']*(df['holding_period']/30)*(df['libor_rate'])/100\n",
    "df['interest']\n",
    "df.corr()"
   ]
  },
  {
   "cell_type": "markdown",
   "metadata": {
    "collapsed": false
   },
   "source": [
    "## Replacing NaN values"
   ]
  },
  {
   "cell_type": "code",
   "execution_count": 10,
   "metadata": {
    "collapsed": false
   },
   "outputs": [
    {
     "data": {
      "text/html": [
       "<div>\n",
       "<table border=\"1\" class=\"dataframe\">\n",
       "  <thead>\n",
       "    <tr style=\"text-align: right;\">\n",
       "      <th></th>\n",
       "      <th>bought</th>\n",
       "      <th>country_code</th>\n",
       "      <th>creation_date</th>\n",
       "      <th>currency</th>\n",
       "      <th>desk_id</th>\n",
       "      <th>euribor_rate</th>\n",
       "      <th>hedge_value</th>\n",
       "      <th>indicator_code</th>\n",
       "      <th>libor_rate</th>\n",
       "      <th>office_id</th>\n",
       "      <th>...</th>\n",
       "      <th>portfolio_id</th>\n",
       "      <th>return</th>\n",
       "      <th>sell_date</th>\n",
       "      <th>sold</th>\n",
       "      <th>start_date</th>\n",
       "      <th>status</th>\n",
       "      <th>type</th>\n",
       "      <th>profit</th>\n",
       "      <th>holding_period</th>\n",
       "      <th>interest</th>\n",
       "    </tr>\n",
       "  </thead>\n",
       "  <tbody>\n",
       "    <tr>\n",
       "      <th>0</th>\n",
       "      <td>1.098097e+08</td>\n",
       "      <td>T</td>\n",
       "      <td>20040720</td>\n",
       "      <td>USD</td>\n",
       "      <td>DSK00001001</td>\n",
       "      <td>0.02074</td>\n",
       "      <td>NaN</td>\n",
       "      <td>NaN</td>\n",
       "      <td>2.332216</td>\n",
       "      <td>OFF00001002</td>\n",
       "      <td>...</td>\n",
       "      <td>PF00001002</td>\n",
       "      <td>0.02496</td>\n",
       "      <td>2004-08-12</td>\n",
       "      <td>110000000.0</td>\n",
       "      <td>2004-07-20</td>\n",
       "      <td>NaN</td>\n",
       "      <td>B</td>\n",
       "      <td>190336.749636</td>\n",
       "      <td>23</td>\n",
       "      <td>1.963432e+06</td>\n",
       "    </tr>\n",
       "    <tr>\n",
       "      <th>1</th>\n",
       "      <td>1.760084e+08</td>\n",
       "      <td>N</td>\n",
       "      <td>20040723</td>\n",
       "      <td>GBP</td>\n",
       "      <td>DSK00001002</td>\n",
       "      <td>0.02074</td>\n",
       "      <td>NaN</td>\n",
       "      <td>NaN</td>\n",
       "      <td>5.269617</td>\n",
       "      <td>OFF00001001</td>\n",
       "      <td>...</td>\n",
       "      <td>PF00001003</td>\n",
       "      <td>0.05496</td>\n",
       "      <td>2004-08-12</td>\n",
       "      <td>176671000.0</td>\n",
       "      <td>2004-07-09</td>\n",
       "      <td>NaN</td>\n",
       "      <td>C</td>\n",
       "      <td>662563.265958</td>\n",
       "      <td>34</td>\n",
       "      <td>1.051163e+07</td>\n",
       "    </tr>\n",
       "    <tr>\n",
       "      <th>2</th>\n",
       "      <td>5.637953e+07</td>\n",
       "      <td>T</td>\n",
       "      <td>20040723</td>\n",
       "      <td>USD</td>\n",
       "      <td>DSK00001004</td>\n",
       "      <td>0.02074</td>\n",
       "      <td>NaN</td>\n",
       "      <td>NaN</td>\n",
       "      <td>2.332216</td>\n",
       "      <td>OFF00001001</td>\n",
       "      <td>...</td>\n",
       "      <td>PF00001005</td>\n",
       "      <td>0.02496</td>\n",
       "      <td>2004-08-17</td>\n",
       "      <td>56474000.0</td>\n",
       "      <td>2004-07-23</td>\n",
       "      <td>NaN</td>\n",
       "      <td>A</td>\n",
       "      <td>94467.039667</td>\n",
       "      <td>25</td>\n",
       "      <td>1.095744e+06</td>\n",
       "    </tr>\n",
       "    <tr>\n",
       "      <th>3</th>\n",
       "      <td>1.645088e+08</td>\n",
       "      <td>T</td>\n",
       "      <td>20040723</td>\n",
       "      <td>USD</td>\n",
       "      <td>DSK00001005</td>\n",
       "      <td>0.02074</td>\n",
       "      <td>NaN</td>\n",
       "      <td>NaN</td>\n",
       "      <td>2.332216</td>\n",
       "      <td>OFF00001001</td>\n",
       "      <td>...</td>\n",
       "      <td>PF00001006</td>\n",
       "      <td>0.02496</td>\n",
       "      <td>2004-07-13</td>\n",
       "      <td>164813000.0</td>\n",
       "      <td>2004-06-09</td>\n",
       "      <td>NaN</td>\n",
       "      <td>A</td>\n",
       "      <td>304158.569044</td>\n",
       "      <td>34</td>\n",
       "      <td>4.348262e+06</td>\n",
       "    </tr>\n",
       "    <tr>\n",
       "      <th>4</th>\n",
       "      <td>1.405402e+08</td>\n",
       "      <td>T</td>\n",
       "      <td>20040723</td>\n",
       "      <td>USD</td>\n",
       "      <td>DSK00001005</td>\n",
       "      <td>0.02074</td>\n",
       "      <td>NaN</td>\n",
       "      <td>NaN</td>\n",
       "      <td>2.332216</td>\n",
       "      <td>OFF00001002</td>\n",
       "      <td>...</td>\n",
       "      <td>PF00001007</td>\n",
       "      <td>0.02496</td>\n",
       "      <td>2004-07-13</td>\n",
       "      <td>140800000.0</td>\n",
       "      <td>2004-06-09</td>\n",
       "      <td>NaN</td>\n",
       "      <td>B</td>\n",
       "      <td>259843.134474</td>\n",
       "      <td>34</td>\n",
       "      <td>3.714727e+06</td>\n",
       "    </tr>\n",
       "  </tbody>\n",
       "</table>\n",
       "<p>5 rows × 21 columns</p>\n",
       "</div>"
      ],
      "text/plain": [
       "         bought country_code  creation_date currency      desk_id  \\\n",
       "0  1.098097e+08            T       20040720      USD  DSK00001001   \n",
       "1  1.760084e+08            N       20040723      GBP  DSK00001002   \n",
       "2  5.637953e+07            T       20040723      USD  DSK00001004   \n",
       "3  1.645088e+08            T       20040723      USD  DSK00001005   \n",
       "4  1.405402e+08            T       20040723      USD  DSK00001005   \n",
       "\n",
       "   euribor_rate hedge_value indicator_code  libor_rate    office_id  \\\n",
       "0       0.02074         NaN            NaN    2.332216  OFF00001002   \n",
       "1       0.02074         NaN            NaN    5.269617  OFF00001001   \n",
       "2       0.02074         NaN            NaN    2.332216  OFF00001001   \n",
       "3       0.02074         NaN            NaN    2.332216  OFF00001001   \n",
       "4       0.02074         NaN            NaN    2.332216  OFF00001002   \n",
       "\n",
       "       ...      portfolio_id   return  sell_date         sold  start_date  \\\n",
       "0      ...        PF00001002  0.02496 2004-08-12  110000000.0  2004-07-20   \n",
       "1      ...        PF00001003  0.05496 2004-08-12  176671000.0  2004-07-09   \n",
       "2      ...        PF00001005  0.02496 2004-08-17   56474000.0  2004-07-23   \n",
       "3      ...        PF00001006  0.02496 2004-07-13  164813000.0  2004-06-09   \n",
       "4      ...        PF00001007  0.02496 2004-07-13  140800000.0  2004-06-09   \n",
       "\n",
       "  status type         profit  holding_period      interest  \n",
       "0    NaN    B  190336.749636              23  1.963432e+06  \n",
       "1    NaN    C  662563.265958              34  1.051163e+07  \n",
       "2    NaN    A   94467.039667              25  1.095744e+06  \n",
       "3    NaN    A  304158.569044              34  4.348262e+06  \n",
       "4    NaN    B  259843.134474              34  3.714727e+06  \n",
       "\n",
       "[5 rows x 21 columns]"
      ]
     },
     "execution_count": 10,
     "metadata": {},
     "output_type": "execute_result"
    }
   ],
   "source": [
    "#df=df_train.append(df_test)\n",
    "df.head()"
   ]
  },
  {
   "cell_type": "code",
   "execution_count": 11,
   "metadata": {
    "collapsed": false
   },
   "outputs": [
    {
     "data": {
      "text/plain": [
       "True    9626\n",
       "-1      4541\n",
       "Name: status, dtype: int64"
      ]
     },
     "execution_count": 11,
     "metadata": {},
     "output_type": "execute_result"
    }
   ],
   "source": [
    "df['indicator_code'].fillna(False, inplace=True)\n",
    "df['hedge_value'].fillna(-1, inplace=True)\n",
    "df['status'].fillna(-1, inplace=True)\n",
    "\n",
    "set(df['status'])\n",
    "df['status'].value_counts()\n"
   ]
  },
  {
   "cell_type": "markdown",
   "metadata": {},
   "source": [
    "## Label Encoding Categorical Variables"
   ]
  },
  {
   "cell_type": "code",
   "execution_count": 12,
   "metadata": {
    "collapsed": false
   },
   "outputs": [],
   "source": [
    "label_enc = LabelEncoder()\n",
    "df['pf_category']=label_enc.fit_transform(df['pf_category'])\n",
    "df['country_code']=label_enc.fit_transform(df['country_code'])\n",
    "df['currency']=label_enc.fit_transform(df['currency'])\n",
    "df['indicator_code']=label_enc.fit_transform(df['indicator_code'])\n",
    "df['type']=label_enc.fit_transform(df['type'])\n",
    "df['hedge_value']=label_enc.fit_transform(df['hedge_value'])\n",
    "df['status']=label_enc.fit_transform(df['status'])\n",
    "#set(df['indicator_code'])\n"
   ]
  },
  {
   "cell_type": "markdown",
   "metadata": {
    "collapsed": true
   },
   "source": [
    "## One Hot Encoding"
   ]
  },
  {
   "cell_type": "code",
   "execution_count": 13,
   "metadata": {
    "collapsed": false
   },
   "outputs": [],
   "source": [
    "df_new = pd.get_dummies(df, columns=['pf_category', 'country_code', 'currency','indicator_code', 'type','hedge_value','status'])\n"
   ]
  },
  {
   "cell_type": "markdown",
   "metadata": {},
   "source": [
    "## Checking NaNs"
   ]
  },
  {
   "cell_type": "code",
   "execution_count": 14,
   "metadata": {
    "collapsed": false
   },
   "outputs": [
    {
     "data": {
      "text/plain": [
       "bought                 2\n",
       "creation_date          0\n",
       "desk_id             5613\n",
       "euribor_rate           0\n",
       "libor_rate             0\n",
       "office_id              0\n",
       "portfolio_id           0\n",
       "return              4801\n",
       "sell_date              0\n",
       "sold                   2\n",
       "start_date             0\n",
       "profit                 2\n",
       "holding_period         0\n",
       "interest               2\n",
       "pf_category_0          0\n",
       "pf_category_1          0\n",
       "pf_category_2          0\n",
       "pf_category_3          0\n",
       "pf_category_4          0\n",
       "country_code_0         0\n",
       "country_code_1         0\n",
       "country_code_2         0\n",
       "country_code_3         0\n",
       "country_code_4         0\n",
       "currency_0             0\n",
       "currency_1             0\n",
       "currency_2             0\n",
       "currency_3             0\n",
       "currency_4             0\n",
       "indicator_code_0       0\n",
       "indicator_code_1       0\n",
       "type_0                 0\n",
       "type_1                 0\n",
       "type_2                 0\n",
       "type_3                 0\n",
       "type_4                 0\n",
       "type_5                 0\n",
       "type_6                 0\n",
       "type_7                 0\n",
       "hedge_value_0          0\n",
       "hedge_value_1          0\n",
       "hedge_value_2          0\n",
       "status_0               0\n",
       "status_1               0\n",
       "dtype: int64"
      ]
     },
     "execution_count": 14,
     "metadata": {},
     "output_type": "execute_result"
    }
   ],
   "source": [
    "\n",
    "df_new.isnull().sum()\n"
   ]
  },
  {
   "cell_type": "markdown",
   "metadata": {},
   "source": [
    "## Splitting train and test dataset"
   ]
  },
  {
   "cell_type": "code",
   "execution_count": 15,
   "metadata": {
    "collapsed": false
   },
   "outputs": [],
   "source": [
    "df_train = df_new.iloc[:9366,:]\n",
    "df_test = df_new.iloc[9366:,:]"
   ]
  },
  {
   "cell_type": "markdown",
   "metadata": {},
   "source": [
    "## Preparing train dataset"
   ]
  },
  {
   "cell_type": "code",
   "execution_count": null,
   "metadata": {
    "collapsed": true
   },
   "outputs": [],
   "source": []
  },
  {
   "cell_type": "raw",
   "metadata": {
    "collapsed": false
   },
   "source": [
    "df_train.columns"
   ]
  },
  {
   "cell_type": "code",
   "execution_count": 16,
   "metadata": {
    "collapsed": false
   },
   "outputs": [
    {
     "name": "stderr",
     "output_type": "stream",
     "text": [
      "/usr/local/lib/python2.7/dist-packages/ipykernel/__main__.py:2: SettingWithCopyWarning: \n",
      "A value is trying to be set on a copy of a slice from a DataFrame\n",
      "\n",
      "See the caveats in the documentation: http://pandas.pydata.org/pandas-docs/stable/indexing.html#indexing-view-versus-copy\n",
      "  from ipykernel import kernelapp as app\n"
     ]
    },
    {
     "data": {
      "text/plain": [
       "bought                 0\n",
       "creation_date          0\n",
       "desk_id             3665\n",
       "euribor_rate           0\n",
       "libor_rate             0\n",
       "office_id              0\n",
       "portfolio_id           0\n",
       "return                 0\n",
       "sell_date              0\n",
       "sold                   0\n",
       "start_date             0\n",
       "profit                 0\n",
       "holding_period         0\n",
       "interest               0\n",
       "pf_category_0          0\n",
       "pf_category_1          0\n",
       "pf_category_2          0\n",
       "pf_category_3          0\n",
       "pf_category_4          0\n",
       "country_code_0         0\n",
       "country_code_1         0\n",
       "country_code_2         0\n",
       "country_code_3         0\n",
       "country_code_4         0\n",
       "currency_0             0\n",
       "currency_1             0\n",
       "currency_2             0\n",
       "currency_3             0\n",
       "currency_4             0\n",
       "indicator_code_0       0\n",
       "indicator_code_1       0\n",
       "type_0                 0\n",
       "type_1                 0\n",
       "type_2                 0\n",
       "type_3                 0\n",
       "type_4                 0\n",
       "type_5                 0\n",
       "type_6                 0\n",
       "type_7                 0\n",
       "hedge_value_0          0\n",
       "hedge_value_1          0\n",
       "hedge_value_2          0\n",
       "status_0               0\n",
       "status_1               0\n",
       "dtype: int64"
      ]
     },
     "execution_count": 16,
     "metadata": {},
     "output_type": "execute_result"
    }
   ],
   "source": [
    "#removing nans\n",
    "df_train.dropna(axis=0, subset=['sold', 'bought'], inplace=True)\n",
    "df_train.isnull().sum()"
   ]
  },
  {
   "cell_type": "code",
   "execution_count": null,
   "metadata": {
    "collapsed": false
   },
   "outputs": [],
   "source": []
  },
  {
   "cell_type": "code",
   "execution_count": null,
   "metadata": {
    "collapsed": false
   },
   "outputs": [],
   "source": []
  },
  {
   "cell_type": "code",
   "execution_count": null,
   "metadata": {
    "collapsed": false
   },
   "outputs": [],
   "source": []
  },
  {
   "cell_type": "code",
   "execution_count": 17,
   "metadata": {
    "collapsed": false
   },
   "outputs": [],
   "source": [
    "X = df_train.loc[:,['sold',\n",
    "       'euribor_rate', 'libor_rate', 'bought',\n",
    "       'pf_category_0', 'pf_category_1',\n",
    "       'pf_category_2', 'pf_category_3', 'pf_category_4', 'country_code_0',\n",
    "       'country_code_1', 'country_code_2', 'country_code_3',\n",
    "       'country_code_4', 'currency_0', 'currency_1', 'currency_2',\n",
    "       'currency_3', 'currency_4', 'indicator_code_0', 'indicator_code_1',\n",
    "       'type_0', 'type_1', 'type_2', 'type_3', 'type_4', 'type_5',\n",
    "       'type_6', 'type_7', 'hedge_value_0', 'hedge_value_1',\n",
    "       'hedge_value_2', 'status_0', 'status_1', 'holding_period', 'interest', 'profit']]\n",
    "Y = df_train[ 'return']\n",
    "\n",
    "#X=X.drop(labels=[572, 573],axis=0)\n",
    "#Y=Y.drop(labels=[572, 573], axis=0)\n"
   ]
  },
  {
   "cell_type": "markdown",
   "metadata": {
    "collapsed": false
   },
   "source": [
    "## Creating CV"
   ]
  },
  {
   "cell_type": "code",
   "execution_count": null,
   "metadata": {
    "collapsed": true
   },
   "outputs": [],
   "source": []
  },
  {
   "cell_type": "code",
   "execution_count": 18,
   "metadata": {
    "collapsed": false
   },
   "outputs": [],
   "source": [
    "from sklearn.model_selection import train_test_split\n",
    "X_train, X_test, Y_train, Y_test = train_test_split( X, Y,\n",
    "                                        test_size=0.33, random_state=7)\n"
   ]
  },
  {
   "cell_type": "markdown",
   "metadata": {},
   "source": [
    "## Creating CV (for test-like data) "
   ]
  },
  {
   "cell_type": "code",
   "execution_count": null,
   "metadata": {
    "collapsed": false
   },
   "outputs": [],
   "source": []
  },
  {
   "cell_type": "code",
   "execution_count": null,
   "metadata": {
    "collapsed": false
   },
   "outputs": [],
   "source": []
  },
  {
   "cell_type": "code",
   "execution_count": 37,
   "metadata": {
    "collapsed": false
   },
   "outputs": [],
   "source": [
    "#X_test"
   ]
  },
  {
   "cell_type": "markdown",
   "metadata": {},
   "source": [
    "## Building a baseline RF model"
   ]
  },
  {
   "cell_type": "code",
   "execution_count": 22,
   "metadata": {
    "collapsed": false
   },
   "outputs": [
    {
     "data": {
      "text/plain": [
       "RandomForestRegressor(bootstrap=True, criterion='mse', max_depth=4,\n",
       "           max_features='auto', max_leaf_nodes=15,\n",
       "           min_impurity_split=1e-07, min_samples_leaf=11,\n",
       "           min_samples_split=20, min_weight_fraction_leaf=0.0,\n",
       "           n_estimators=300, n_jobs=-1, oob_score=False, random_state=7,\n",
       "           verbose=0, warm_start=False)"
      ]
     },
     "execution_count": 22,
     "metadata": {},
     "output_type": "execute_result"
    }
   ],
   "source": [
    "from sklearn.ensemble import RandomForestRegressor\n",
    "from sklearn.metrics import r2_score\n",
    "\n",
    "model = RandomForestRegressor(n_estimators=300,max_leaf_nodes = 15,max_depth=4,\n",
    "                              min_samples_leaf=11, min_samples_split= 20,\n",
    "                              n_jobs=-1, random_state =7)\n",
    "\n",
    "model.fit(X_train,Y_train)"
   ]
  },
  {
   "cell_type": "code",
   "execution_count": 23,
   "metadata": {
    "collapsed": false
   },
   "outputs": [
    {
     "data": {
      "text/plain": [
       "array([ 0.00436736,  0.00436736,  0.05194093, ...,  0.05801697,\n",
       "        0.00410598,  0.05010096])"
      ]
     },
     "execution_count": 23,
     "metadata": {},
     "output_type": "execute_result"
    }
   ],
   "source": [
    "#predicting\n",
    "s=model.predict(X_test)\n",
    "s"
   ]
  },
  {
   "cell_type": "code",
   "execution_count": 24,
   "metadata": {
    "collapsed": false
   },
   "outputs": [
    {
     "data": {
      "text/plain": [
       "0.92872659725981044"
      ]
     },
     "execution_count": 24,
     "metadata": {},
     "output_type": "execute_result"
    }
   ],
   "source": [
    "#evaluating R2 score\n",
    "from sklearn.metrics import r2_score\n",
    "r2_score (s, Y_test.values)"
   ]
  },
  {
   "cell_type": "code",
   "execution_count": 25,
   "metadata": {
    "collapsed": false
   },
   "outputs": [
    {
     "data": {
      "text/plain": [
       "array([  6.45667259e-04,   9.22256576e-02,   1.63212066e-01,\n",
       "         6.30755059e-04,   8.56014408e-04,   6.54150394e-04,\n",
       "         2.20030304e-03,   1.97788779e-02,   0.00000000e+00,\n",
       "         1.25170003e-03,   8.08856625e-04,   4.78485496e-03,\n",
       "         0.00000000e+00,   3.07125593e-02,   1.76265642e-03,\n",
       "         3.45262339e-02,   1.11325750e-03,   0.00000000e+00,\n",
       "         5.06523343e-03,   0.00000000e+00,   0.00000000e+00,\n",
       "         1.58916147e-04,   0.00000000e+00,   7.76940351e-04,\n",
       "         0.00000000e+00,   9.63574535e-04,   0.00000000e+00,\n",
       "         0.00000000e+00,   0.00000000e+00,   0.00000000e+00,\n",
       "         0.00000000e+00,   0.00000000e+00,   6.20452995e-02,\n",
       "         8.81051106e-02,   1.95714947e-03,   1.51366011e-02,\n",
       "         4.70627564e-01])"
      ]
     },
     "execution_count": 25,
     "metadata": {},
     "output_type": "execute_result"
    }
   ],
   "source": [
    "#analyzing feature importances\n",
    "model.feature_importances_"
   ]
  },
  {
   "cell_type": "markdown",
   "metadata": {},
   "source": [
    "## Prediction"
   ]
  },
  {
   "cell_type": "code",
   "execution_count": 27,
   "metadata": {
    "collapsed": false
   },
   "outputs": [
    {
     "name": "stderr",
     "output_type": "stream",
     "text": [
      "/usr/local/lib/python2.7/dist-packages/ipykernel/__main__.py:10: SettingWithCopyWarning: \n",
      "A value is trying to be set on a copy of a slice from a DataFrame.\n",
      "Try using .loc[row_indexer,col_indexer] = value instead\n",
      "\n",
      "See the caveats in the documentation: http://pandas.pydata.org/pandas-docs/stable/indexing.html#indexing-view-versus-copy\n"
     ]
    },
    {
     "data": {
      "text/html": [
       "<div>\n",
       "<table border=\"1\" class=\"dataframe\">\n",
       "  <thead>\n",
       "    <tr style=\"text-align: right;\">\n",
       "      <th></th>\n",
       "      <th>bought</th>\n",
       "      <th>creation_date</th>\n",
       "      <th>desk_id</th>\n",
       "      <th>euribor_rate</th>\n",
       "      <th>libor_rate</th>\n",
       "      <th>office_id</th>\n",
       "      <th>portfolio_id</th>\n",
       "      <th>return</th>\n",
       "      <th>sell_date</th>\n",
       "      <th>sold</th>\n",
       "      <th>...</th>\n",
       "      <th>type_3</th>\n",
       "      <th>type_4</th>\n",
       "      <th>type_5</th>\n",
       "      <th>type_6</th>\n",
       "      <th>type_7</th>\n",
       "      <th>hedge_value_0</th>\n",
       "      <th>hedge_value_1</th>\n",
       "      <th>hedge_value_2</th>\n",
       "      <th>status_0</th>\n",
       "      <th>status_1</th>\n",
       "    </tr>\n",
       "  </thead>\n",
       "  <tbody>\n",
       "    <tr>\n",
       "      <th>0</th>\n",
       "      <td>1.715337e+08</td>\n",
       "      <td>20040720</td>\n",
       "      <td>DSK00001001</td>\n",
       "      <td>0.02074</td>\n",
       "      <td>2.332216</td>\n",
       "      <td>OFF00001001</td>\n",
       "      <td>PF00001001</td>\n",
       "      <td>0.027951</td>\n",
       "      <td>2004-08-12</td>\n",
       "      <td>171831000.0</td>\n",
       "      <td>...</td>\n",
       "      <td>0.0</td>\n",
       "      <td>0.0</td>\n",
       "      <td>0.0</td>\n",
       "      <td>0.0</td>\n",
       "      <td>0.0</td>\n",
       "      <td>1.0</td>\n",
       "      <td>0.0</td>\n",
       "      <td>0.0</td>\n",
       "      <td>1.0</td>\n",
       "      <td>0.0</td>\n",
       "    </tr>\n",
       "    <tr>\n",
       "      <th>1</th>\n",
       "      <td>5.638038e+07</td>\n",
       "      <td>20040723</td>\n",
       "      <td>DSK00001003</td>\n",
       "      <td>0.02074</td>\n",
       "      <td>2.332216</td>\n",
       "      <td>OFF00001002</td>\n",
       "      <td>PF00001004</td>\n",
       "      <td>0.042721</td>\n",
       "      <td>2004-07-19</td>\n",
       "      <td>56485000.0</td>\n",
       "      <td>...</td>\n",
       "      <td>0.0</td>\n",
       "      <td>0.0</td>\n",
       "      <td>0.0</td>\n",
       "      <td>0.0</td>\n",
       "      <td>0.0</td>\n",
       "      <td>1.0</td>\n",
       "      <td>0.0</td>\n",
       "      <td>0.0</td>\n",
       "      <td>1.0</td>\n",
       "      <td>0.0</td>\n",
       "    </tr>\n",
       "    <tr>\n",
       "      <th>2</th>\n",
       "      <td>4.166179e+07</td>\n",
       "      <td>20040726</td>\n",
       "      <td>DSK00001007</td>\n",
       "      <td>0.02074</td>\n",
       "      <td>2.332216</td>\n",
       "      <td>OFF00001001</td>\n",
       "      <td>PF00001009</td>\n",
       "      <td>0.028118</td>\n",
       "      <td>2004-07-09</td>\n",
       "      <td>41734000.0</td>\n",
       "      <td>...</td>\n",
       "      <td>0.0</td>\n",
       "      <td>0.0</td>\n",
       "      <td>0.0</td>\n",
       "      <td>0.0</td>\n",
       "      <td>0.0</td>\n",
       "      <td>1.0</td>\n",
       "      <td>0.0</td>\n",
       "      <td>0.0</td>\n",
       "      <td>1.0</td>\n",
       "      <td>0.0</td>\n",
       "    </tr>\n",
       "    <tr>\n",
       "      <th>3</th>\n",
       "      <td>8.250936e+07</td>\n",
       "      <td>20040726</td>\n",
       "      <td>DSK00001011</td>\n",
       "      <td>0.02074</td>\n",
       "      <td>2.332216</td>\n",
       "      <td>OFF00001001</td>\n",
       "      <td>PF00001013</td>\n",
       "      <td>0.027951</td>\n",
       "      <td>2004-10-19</td>\n",
       "      <td>82951000.0</td>\n",
       "      <td>...</td>\n",
       "      <td>0.0</td>\n",
       "      <td>0.0</td>\n",
       "      <td>0.0</td>\n",
       "      <td>0.0</td>\n",
       "      <td>0.0</td>\n",
       "      <td>1.0</td>\n",
       "      <td>0.0</td>\n",
       "      <td>0.0</td>\n",
       "      <td>1.0</td>\n",
       "      <td>0.0</td>\n",
       "    </tr>\n",
       "    <tr>\n",
       "      <th>4</th>\n",
       "      <td>7.317055e+07</td>\n",
       "      <td>20040726</td>\n",
       "      <td>DSK00001012</td>\n",
       "      <td>0.02074</td>\n",
       "      <td>2.332216</td>\n",
       "      <td>OFF00001001</td>\n",
       "      <td>PF00001014</td>\n",
       "      <td>0.027951</td>\n",
       "      <td>2004-08-13</td>\n",
       "      <td>73293000.0</td>\n",
       "      <td>...</td>\n",
       "      <td>0.0</td>\n",
       "      <td>0.0</td>\n",
       "      <td>0.0</td>\n",
       "      <td>0.0</td>\n",
       "      <td>0.0</td>\n",
       "      <td>1.0</td>\n",
       "      <td>0.0</td>\n",
       "      <td>0.0</td>\n",
       "      <td>1.0</td>\n",
       "      <td>0.0</td>\n",
       "    </tr>\n",
       "  </tbody>\n",
       "</table>\n",
       "<p>5 rows × 44 columns</p>\n",
       "</div>"
      ],
      "text/plain": [
       "         bought  creation_date      desk_id  euribor_rate  libor_rate  \\\n",
       "0  1.715337e+08       20040720  DSK00001001       0.02074    2.332216   \n",
       "1  5.638038e+07       20040723  DSK00001003       0.02074    2.332216   \n",
       "2  4.166179e+07       20040726  DSK00001007       0.02074    2.332216   \n",
       "3  8.250936e+07       20040726  DSK00001011       0.02074    2.332216   \n",
       "4  7.317055e+07       20040726  DSK00001012       0.02074    2.332216   \n",
       "\n",
       "     office_id portfolio_id    return  sell_date         sold    ...     \\\n",
       "0  OFF00001001   PF00001001  0.027951 2004-08-12  171831000.0    ...      \n",
       "1  OFF00001002   PF00001004  0.042721 2004-07-19   56485000.0    ...      \n",
       "2  OFF00001001   PF00001009  0.028118 2004-07-09   41734000.0    ...      \n",
       "3  OFF00001001   PF00001013  0.027951 2004-10-19   82951000.0    ...      \n",
       "4  OFF00001001   PF00001014  0.027951 2004-08-13   73293000.0    ...      \n",
       "\n",
       "  type_3  type_4  type_5  type_6  type_7  hedge_value_0  hedge_value_1  \\\n",
       "0    0.0     0.0     0.0     0.0     0.0            1.0            0.0   \n",
       "1    0.0     0.0     0.0     0.0     0.0            1.0            0.0   \n",
       "2    0.0     0.0     0.0     0.0     0.0            1.0            0.0   \n",
       "3    0.0     0.0     0.0     0.0     0.0            1.0            0.0   \n",
       "4    0.0     0.0     0.0     0.0     0.0            1.0            0.0   \n",
       "\n",
       "   hedge_value_2  status_0  status_1  \n",
       "0            0.0       1.0       0.0  \n",
       "1            0.0       1.0       0.0  \n",
       "2            0.0       1.0       0.0  \n",
       "3            0.0       1.0       0.0  \n",
       "4            0.0       1.0       0.0  \n",
       "\n",
       "[5 rows x 44 columns]"
      ]
     },
     "execution_count": 27,
     "metadata": {},
     "output_type": "execute_result"
    }
   ],
   "source": [
    "df_test['return'] = model.predict(df_test.loc[:,[ 'sold',\n",
    "       'euribor_rate', 'libor_rate', 'bought',\n",
    "       'pf_category_0', 'pf_category_1',\n",
    "       'pf_category_2', 'pf_category_3', 'pf_category_4', 'country_code_0',\n",
    "       'country_code_1', 'country_code_2', 'country_code_3',\n",
    "       'country_code_4', 'currency_0', 'currency_1', 'currency_2',\n",
    "       'currency_3', 'currency_4', 'indicator_code_0', 'indicator_code_1',\n",
    "       'type_0', 'type_1', 'type_2', 'type_3', 'type_4', 'type_5',\n",
    "       'type_6', 'type_7', 'hedge_value_0', 'hedge_value_1',\n",
    "       'hedge_value_2', 'status_0', 'status_1', 'holding_period', 'interest', 'profit']])\n",
    "df_test.head()"
   ]
  },
  {
   "cell_type": "code",
   "execution_count": 28,
   "metadata": {
    "collapsed": false
   },
   "outputs": [
    {
     "data": {
      "text/html": [
       "<div>\n",
       "<table border=\"1\" class=\"dataframe\">\n",
       "  <thead>\n",
       "    <tr style=\"text-align: right;\">\n",
       "      <th></th>\n",
       "      <th>portfolio_id</th>\n",
       "      <th>return</th>\n",
       "    </tr>\n",
       "  </thead>\n",
       "  <tbody>\n",
       "    <tr>\n",
       "      <th>0</th>\n",
       "      <td>PF00001001</td>\n",
       "      <td>0.027951</td>\n",
       "    </tr>\n",
       "    <tr>\n",
       "      <th>1</th>\n",
       "      <td>PF00001004</td>\n",
       "      <td>0.042721</td>\n",
       "    </tr>\n",
       "    <tr>\n",
       "      <th>2</th>\n",
       "      <td>PF00001009</td>\n",
       "      <td>0.028118</td>\n",
       "    </tr>\n",
       "    <tr>\n",
       "      <th>3</th>\n",
       "      <td>PF00001013</td>\n",
       "      <td>0.027951</td>\n",
       "    </tr>\n",
       "    <tr>\n",
       "      <th>4</th>\n",
       "      <td>PF00001014</td>\n",
       "      <td>0.027951</td>\n",
       "    </tr>\n",
       "  </tbody>\n",
       "</table>\n",
       "</div>"
      ],
      "text/plain": [
       "  portfolio_id    return\n",
       "0   PF00001001  0.027951\n",
       "1   PF00001004  0.042721\n",
       "2   PF00001009  0.028118\n",
       "3   PF00001013  0.027951\n",
       "4   PF00001014  0.027951"
      ]
     },
     "execution_count": 28,
     "metadata": {},
     "output_type": "execute_result"
    }
   ],
   "source": [
    "df_pred = df_test.loc[:,['portfolio_id', 'return']]\n",
    "df_pred.head()"
   ]
  },
  {
   "cell_type": "code",
   "execution_count": 29,
   "metadata": {
    "collapsed": true
   },
   "outputs": [],
   "source": [
    "df_pred.to_csv('/resources/data/brainwaves/pred2.csv')"
   ]
  },
  {
   "cell_type": "code",
   "execution_count": null,
   "metadata": {
    "collapsed": true
   },
   "outputs": [],
   "source": []
  },
  {
   "cell_type": "code",
   "execution_count": null,
   "metadata": {
    "collapsed": true
   },
   "outputs": [],
   "source": []
  },
  {
   "cell_type": "code",
   "execution_count": 37,
   "metadata": {
    "collapsed": true
   },
   "outputs": [],
   "source": [
    "unimportant_features = ['pf_category_1', 'pf_category_2','pf_category_4', \n",
    "                 'country_code_1','country_code_3', 'currency_2', 'currency_3', \n",
    "                  'indicator_code_0', 'indicator_code_1','type_1', 'type_2',\n",
    "                   'type_4','type_5','type_6', \n",
    "                 'type_7', 'hedge_value_0', 'hedge_value_1','hedge_value_2']"
   ]
  },
  {
   "cell_type": "code",
   "execution_count": 48,
   "metadata": {
    "collapsed": false
   },
   "outputs": [
    {
     "data": {
      "text/plain": [
       "0.89503164635707755"
      ]
     },
     "execution_count": 48,
     "metadata": {},
     "output_type": "execute_result"
    }
   ],
   "source": [
    "\n",
    "## model with important features\n",
    "model1 = RandomForestRegressor(n_estimators=300,max_depth=5,\n",
    "                              min_samples_leaf=100,n_jobs=-1)\n",
    "\n",
    "model1.fit(X_train.drop(labels=unimportant_features, axis=1),Y_train)\n",
    "\n",
    "#predicting\n",
    "s1=model1.predict(X_test.drop(labels=unimportant_features, axis=1))\n",
    "\n",
    "#evaluating R2 score\n",
    "from sklearn.metrics import r2_score\n",
    "r2_score (s, Y_test.values)\n"
   ]
  },
  {
   "cell_type": "markdown",
   "metadata": {},
   "source": []
  },
  {
   "cell_type": "code",
   "execution_count": null,
   "metadata": {
    "collapsed": false
   },
   "outputs": [],
   "source": []
  },
  {
   "cell_type": "code",
   "execution_count": null,
   "metadata": {
    "collapsed": true
   },
   "outputs": [],
   "source": []
  },
  {
   "cell_type": "markdown",
   "metadata": {
    "collapsed": true
   },
   "source": [
    "## Plotting hyperparam graphs"
   ]
  },
  {
   "cell_type": "code",
   "execution_count": 20,
   "metadata": {
    "collapsed": false
   },
   "outputs": [],
   "source": [
    "model_new = RandomForestRegressor(random_state=7)\n",
    "\n",
    "\n",
    "def evaluate_param(parameter, num_range, index):\n",
    "    grid_search = GridSearchCV(model_new, param_grid = {parameter: num_range},\n",
    "                               scoring=make_scorer(r2_score))\n",
    "    grid_search.fit(X_train, Y_train)\n",
    "    \n",
    "    df = {}\n",
    "    for i, score in enumerate(grid_search.grid_scores_):\n",
    "        df[score[0][parameter]] = score[1]\n",
    "       \n",
    "    \n",
    "    df = pd.DataFrame.from_dict(df, orient='index')\n",
    "    df.reset_index(level=0, inplace=True)\n",
    "    df = df.sort_values(by='index')\n",
    " \n",
    "    plt.subplot(3,2,index)\n",
    "    plot = plt.plot(df['index'], df[0])\n",
    "    plt.title(parameter)\n",
    "    return plot, df"
   ]
  },
  {
   "cell_type": "code",
   "execution_count": 21,
   "metadata": {
    "collapsed": false
   },
   "outputs": [],
   "source": [
    "# parameters and ranges to plot\n",
    "param_grid = {\"n_estimators\": np.arange(2, 400, 20),\n",
    "              \"max_depth\": np.arange(1, 28, 1),\n",
    "              \"min_samples_split\": np.arange(2,100,1),\n",
    "\n",
    "              #\"min_samples_split\": np.arange(1,150,1),\n",
    "              \"min_samples_leaf\": np.arange(1,60,1),\n",
    "              \"max_leaf_nodes\": np.arange(2,60,1),\n",
    "              \"min_weight_fraction_leaf\": np.arange(0.1,0.4, 0.1),\n",
    "              \"max_features\": np.arange(0.1,0.9,0.1)}"
   ]
  },
  {
   "cell_type": "code",
   "execution_count": 22,
   "metadata": {
    "collapsed": false
   },
   "outputs": [
    {
     "name": "stderr",
     "output_type": "stream",
     "text": [
      "/resources/common/.virtualenv/python2/lib/python2.7/site-packages/sklearn/model_selection/_search.py:667: DeprecationWarning: The grid_scores_ attribute was deprecated in version 0.18 in favor of the more elaborate cv_results_ attribute. The grid_scores_ attribute will not be available from 0.20\n",
      "  DeprecationWarning)\n",
      "/resources/common/.virtualenv/python2/lib/python2.7/site-packages/sklearn/model_selection/_search.py:667: DeprecationWarning: The grid_scores_ attribute was deprecated in version 0.18 in favor of the more elaborate cv_results_ attribute. The grid_scores_ attribute will not be available from 0.20\n",
      "  DeprecationWarning)\n",
      "/resources/common/.virtualenv/python2/lib/python2.7/site-packages/sklearn/model_selection/_search.py:667: DeprecationWarning: The grid_scores_ attribute was deprecated in version 0.18 in favor of the more elaborate cv_results_ attribute. The grid_scores_ attribute will not be available from 0.20\n",
      "  DeprecationWarning)\n",
      "/resources/common/.virtualenv/python2/lib/python2.7/site-packages/sklearn/model_selection/_search.py:667: DeprecationWarning: The grid_scores_ attribute was deprecated in version 0.18 in favor of the more elaborate cv_results_ attribute. The grid_scores_ attribute will not be available from 0.20\n",
      "  DeprecationWarning)\n",
      "/resources/common/.virtualenv/python2/lib/python2.7/site-packages/sklearn/model_selection/_search.py:667: DeprecationWarning: The grid_scores_ attribute was deprecated in version 0.18 in favor of the more elaborate cv_results_ attribute. The grid_scores_ attribute will not be available from 0.20\n",
      "  DeprecationWarning)\n",
      "/resources/common/.virtualenv/python2/lib/python2.7/site-packages/sklearn/model_selection/_search.py:667: DeprecationWarning: The grid_scores_ attribute was deprecated in version 0.18 in favor of the more elaborate cv_results_ attribute. The grid_scores_ attribute will not be available from 0.20\n",
      "  DeprecationWarning)\n",
      "/resources/common/.virtualenv/python2/lib/python2.7/site-packages/sklearn/model_selection/_search.py:667: DeprecationWarning: The grid_scores_ attribute was deprecated in version 0.18 in favor of the more elaborate cv_results_ attribute. The grid_scores_ attribute will not be available from 0.20\n",
      "  DeprecationWarning)\n"
     ]
    },
    {
     "ename": "ValueError",
     "evalue": "num must be 1 <= num <= 6, not 7",
     "output_type": "error",
     "traceback": [
      "\u001b[0;31m\u001b[0m",
      "\u001b[0;31mValueError\u001b[0mTraceback (most recent call last)",
      "\u001b[0;32m<ipython-input-22-9aa6ecfe9702>\u001b[0m in \u001b[0;36m<module>\u001b[0;34m()\u001b[0m\n\u001b[1;32m      6\u001b[0m \u001b[0mplt\u001b[0m\u001b[0;34m.\u001b[0m\u001b[0mfigure\u001b[0m\u001b[0;34m(\u001b[0m\u001b[0mfigsize\u001b[0m\u001b[0;34m=\u001b[0m\u001b[0;34m(\u001b[0m\u001b[0;36m16\u001b[0m\u001b[0;34m,\u001b[0m\u001b[0;36m12\u001b[0m\u001b[0;34m)\u001b[0m\u001b[0;34m)\u001b[0m\u001b[0;34m\u001b[0m\u001b[0m\n\u001b[1;32m      7\u001b[0m \u001b[0;32mfor\u001b[0m \u001b[0mparameter\u001b[0m\u001b[0;34m,\u001b[0m \u001b[0mparam_range\u001b[0m \u001b[0;32min\u001b[0m \u001b[0mdict\u001b[0m\u001b[0;34m.\u001b[0m\u001b[0mitems\u001b[0m\u001b[0;34m(\u001b[0m\u001b[0mparam_grid\u001b[0m\u001b[0;34m)\u001b[0m\u001b[0;34m:\u001b[0m\u001b[0;34m\u001b[0m\u001b[0m\n\u001b[0;32m----> 8\u001b[0;31m     \u001b[0mevaluate_param\u001b[0m\u001b[0;34m(\u001b[0m\u001b[0mparameter\u001b[0m\u001b[0;34m,\u001b[0m \u001b[0mparam_range\u001b[0m\u001b[0;34m,\u001b[0m \u001b[0mindex\u001b[0m\u001b[0;34m)\u001b[0m\u001b[0;34m\u001b[0m\u001b[0m\n\u001b[0m\u001b[1;32m      9\u001b[0m     \u001b[0mindex\u001b[0m \u001b[0;34m+=\u001b[0m \u001b[0;36m1\u001b[0m\u001b[0;34m\u001b[0m\u001b[0m\n",
      "\u001b[0;32m<ipython-input-20-4e1391419546>\u001b[0m in \u001b[0;36mevaluate_param\u001b[0;34m(parameter, num_range, index)\u001b[0m\n\u001b[1;32m     16\u001b[0m     \u001b[0mdf\u001b[0m \u001b[0;34m=\u001b[0m \u001b[0mdf\u001b[0m\u001b[0;34m.\u001b[0m\u001b[0msort_values\u001b[0m\u001b[0;34m(\u001b[0m\u001b[0mby\u001b[0m\u001b[0;34m=\u001b[0m\u001b[0;34m'index'\u001b[0m\u001b[0;34m)\u001b[0m\u001b[0;34m\u001b[0m\u001b[0m\n\u001b[1;32m     17\u001b[0m \u001b[0;34m\u001b[0m\u001b[0m\n\u001b[0;32m---> 18\u001b[0;31m     \u001b[0mplt\u001b[0m\u001b[0;34m.\u001b[0m\u001b[0msubplot\u001b[0m\u001b[0;34m(\u001b[0m\u001b[0;36m3\u001b[0m\u001b[0;34m,\u001b[0m\u001b[0;36m2\u001b[0m\u001b[0;34m,\u001b[0m\u001b[0mindex\u001b[0m\u001b[0;34m)\u001b[0m\u001b[0;34m\u001b[0m\u001b[0m\n\u001b[0m\u001b[1;32m     19\u001b[0m     \u001b[0mplot\u001b[0m \u001b[0;34m=\u001b[0m \u001b[0mplt\u001b[0m\u001b[0;34m.\u001b[0m\u001b[0mplot\u001b[0m\u001b[0;34m(\u001b[0m\u001b[0mdf\u001b[0m\u001b[0;34m[\u001b[0m\u001b[0;34m'index'\u001b[0m\u001b[0;34m]\u001b[0m\u001b[0;34m,\u001b[0m \u001b[0mdf\u001b[0m\u001b[0;34m[\u001b[0m\u001b[0;36m0\u001b[0m\u001b[0;34m]\u001b[0m\u001b[0;34m)\u001b[0m\u001b[0;34m\u001b[0m\u001b[0m\n\u001b[1;32m     20\u001b[0m     \u001b[0mplt\u001b[0m\u001b[0;34m.\u001b[0m\u001b[0mtitle\u001b[0m\u001b[0;34m(\u001b[0m\u001b[0mparameter\u001b[0m\u001b[0;34m)\u001b[0m\u001b[0;34m\u001b[0m\u001b[0m\n",
      "\u001b[0;32m/usr/local/lib/python2.7/dist-packages/matplotlib/pyplot.pyc\u001b[0m in \u001b[0;36msubplot\u001b[0;34m(*args, **kwargs)\u001b[0m\n\u001b[1;32m   1042\u001b[0m \u001b[0;34m\u001b[0m\u001b[0m\n\u001b[1;32m   1043\u001b[0m     \u001b[0mfig\u001b[0m \u001b[0;34m=\u001b[0m \u001b[0mgcf\u001b[0m\u001b[0;34m(\u001b[0m\u001b[0;34m)\u001b[0m\u001b[0;34m\u001b[0m\u001b[0m\n\u001b[0;32m-> 1044\u001b[0;31m     \u001b[0ma\u001b[0m \u001b[0;34m=\u001b[0m \u001b[0mfig\u001b[0m\u001b[0;34m.\u001b[0m\u001b[0madd_subplot\u001b[0m\u001b[0;34m(\u001b[0m\u001b[0;34m*\u001b[0m\u001b[0margs\u001b[0m\u001b[0;34m,\u001b[0m \u001b[0;34m**\u001b[0m\u001b[0mkwargs\u001b[0m\u001b[0;34m)\u001b[0m\u001b[0;34m\u001b[0m\u001b[0m\n\u001b[0m\u001b[1;32m   1045\u001b[0m     \u001b[0mbbox\u001b[0m \u001b[0;34m=\u001b[0m \u001b[0ma\u001b[0m\u001b[0;34m.\u001b[0m\u001b[0mbbox\u001b[0m\u001b[0;34m\u001b[0m\u001b[0m\n\u001b[1;32m   1046\u001b[0m     \u001b[0mbyebye\u001b[0m \u001b[0;34m=\u001b[0m \u001b[0;34m[\u001b[0m\u001b[0;34m]\u001b[0m\u001b[0;34m\u001b[0m\u001b[0m\n",
      "\u001b[0;32m/usr/local/lib/python2.7/dist-packages/matplotlib/figure.pyc\u001b[0m in \u001b[0;36madd_subplot\u001b[0;34m(self, *args, **kwargs)\u001b[0m\n\u001b[1;32m   1019\u001b[0m                     \u001b[0mself\u001b[0m\u001b[0;34m.\u001b[0m\u001b[0m_axstack\u001b[0m\u001b[0;34m.\u001b[0m\u001b[0mremove\u001b[0m\u001b[0;34m(\u001b[0m\u001b[0max\u001b[0m\u001b[0;34m)\u001b[0m\u001b[0;34m\u001b[0m\u001b[0m\n\u001b[1;32m   1020\u001b[0m \u001b[0;34m\u001b[0m\u001b[0m\n\u001b[0;32m-> 1021\u001b[0;31m             \u001b[0ma\u001b[0m \u001b[0;34m=\u001b[0m \u001b[0msubplot_class_factory\u001b[0m\u001b[0;34m(\u001b[0m\u001b[0mprojection_class\u001b[0m\u001b[0;34m)\u001b[0m\u001b[0;34m(\u001b[0m\u001b[0mself\u001b[0m\u001b[0;34m,\u001b[0m \u001b[0;34m*\u001b[0m\u001b[0margs\u001b[0m\u001b[0;34m,\u001b[0m \u001b[0;34m**\u001b[0m\u001b[0mkwargs\u001b[0m\u001b[0;34m)\u001b[0m\u001b[0;34m\u001b[0m\u001b[0m\n\u001b[0m\u001b[1;32m   1022\u001b[0m \u001b[0;34m\u001b[0m\u001b[0m\n\u001b[1;32m   1023\u001b[0m         \u001b[0mself\u001b[0m\u001b[0;34m.\u001b[0m\u001b[0m_axstack\u001b[0m\u001b[0;34m.\u001b[0m\u001b[0madd\u001b[0m\u001b[0;34m(\u001b[0m\u001b[0mkey\u001b[0m\u001b[0;34m,\u001b[0m \u001b[0ma\u001b[0m\u001b[0;34m)\u001b[0m\u001b[0;34m\u001b[0m\u001b[0m\n",
      "\u001b[0;32m/usr/local/lib/python2.7/dist-packages/matplotlib/axes/_subplots.pyc\u001b[0m in \u001b[0;36m__init__\u001b[0;34m(self, fig, *args, **kwargs)\u001b[0m\n\u001b[1;32m     62\u001b[0m                     raise ValueError(\n\u001b[1;32m     63\u001b[0m                         \"num must be 1 <= num <= {maxn}, not {num}\".format(\n\u001b[0;32m---> 64\u001b[0;31m                             maxn=rows*cols, num=num))\n\u001b[0m\u001b[1;32m     65\u001b[0m                 \u001b[0mself\u001b[0m\u001b[0;34m.\u001b[0m\u001b[0m_subplotspec\u001b[0m \u001b[0;34m=\u001b[0m \u001b[0mGridSpec\u001b[0m\u001b[0;34m(\u001b[0m\u001b[0mrows\u001b[0m\u001b[0;34m,\u001b[0m \u001b[0mcols\u001b[0m\u001b[0;34m)\u001b[0m\u001b[0;34m[\u001b[0m\u001b[0mint\u001b[0m\u001b[0;34m(\u001b[0m\u001b[0mnum\u001b[0m\u001b[0;34m)\u001b[0m \u001b[0;34m-\u001b[0m \u001b[0;36m1\u001b[0m\u001b[0;34m]\u001b[0m\u001b[0;34m\u001b[0m\u001b[0m\n\u001b[1;32m     66\u001b[0m                 \u001b[0;31m# num - 1 for converting from MATLAB to python indexing\u001b[0m\u001b[0;34m\u001b[0m\u001b[0;34m\u001b[0m\u001b[0m\n",
      "\u001b[0;31mValueError\u001b[0m: num must be 1 <= num <= 6, not 7"
     ]
    },
    {
     "data": {
      "image/png": "[encoded data removed]",
      "text/plain": [
       "<matplotlib.figure.Figure at 0x7f9dc0a86750>"
      ]
     },
     "metadata": {},
     "output_type": "display_data"
    }
   ],
   "source": [
    "import matplotlib.pyplot as plt\n",
    "from sklearn.metrics import make_scorer\n",
    "\n",
    "model_new = RandomForestRegressor(random_state=7)\n",
    "index = 1\n",
    "plt.figure(figsize=(16,12))\n",
    "for parameter, param_range in dict.items(param_grid):   \n",
    "    evaluate_param(parameter, param_range, index)\n",
    "    index += 1"
   ]
  },
  {
   "cell_type": "markdown",
   "metadata": {
    "collapsed": false
   },
   "source": [
    "## Grid Searching Hyper-parameters"
   ]
  },
  {
   "cell_type": "code",
   "execution_count": null,
   "metadata": {
    "collapsed": false,
    "scrolled": false
   },
   "outputs": [],
   "source": [
    "from sklearn.metrics import make_scorer\n",
    "\n",
    "\n",
    "# define the grid search parameters\n",
    "param_grid = { \n",
    "    'n_estimators': [300, 310, 320, 330,340,350],\n",
    "    \"max_depth\": [3,4,5],\n",
    "    \"min_samples_split\": np.arange(10,20,1),\n",
    "    \"min_samples_leaf\": np.arange(10,14,1),\n",
    "    \"max_leaf_nodes\": np.arange(10,20,1),\n",
    "    \"min_weight_fraction_leaf\": [0.0],\n",
    "    \"max_features\": [0.4,0.5,0.6]\n",
    "}\n",
    "\n",
    "grid = GridSearchCV(estimator=model, param_grid=param_grid, scoring=make_scorer(r2_score))\n",
    "grid_result = grid.fit(X_train, Y_train)\n",
    "\n",
    "# summarize results\n",
    "print(\"Best: %f using %s\" % (grid_result.best_score_, grid_result.best_params_))\n",
    "\n",
    "#deatiled results\n",
    "means = grid_result.cv_results_['mean_test_score']\n",
    "stds = grid_result.cv_results_['std_test_score']\n",
    "params = grid_result.cv_results_['params']\n",
    "for mean, stdev, param in zip(means, stds, params):\n",
    "    print(\"%f (%f) with: %r\" % (mean, stdev, param))"
   ]
  },
  {
   "cell_type": "code",
   "execution_count": 30,
   "metadata": {
    "collapsed": false
   },
   "outputs": [],
   "source": [
    "##optimized model\n",
    "#from sklearn.ensemble import RandomForestRegressor\n",
    "## model with important features and max_features\n",
    "#model2 = RandomForestRegressor(n_estimators=300, max_leaf_nodes=9,\n",
    "#                               max_features='sqrt', min_samples_split = 57,\n",
    "#                               min_weight_fraction_leaf =0.1, max_depth =4,\n",
    "#                              min_samples_leaf=17,n_jobs=-1)\n",
    "#\n",
    "#model2.fit(X_train,Y_train)"
   ]
  },
  {
   "cell_type": "code",
   "execution_count": null,
   "metadata": {
    "collapsed": false
   },
   "outputs": [],
   "source": []
  },
  {
   "cell_type": "code",
   "execution_count": null,
   "metadata": {
    "collapsed": false
   },
   "outputs": [],
   "source": []
  },
  {
   "cell_type": "code",
   "execution_count": null,
   "metadata": {
    "collapsed": true
   },
   "outputs": [],
   "source": []
  }
 ],
 "metadata": {
  "kernelspec": {
   "display_name": "Python 2",
   "language": "python",
   "name": "python2"
  },
  "language_info": {
   "codemirror_mode": {
    "name": "ipython",
    "version": 2
   },
   "file_extension": ".py",
   "mimetype": "text/x-python",
   "name": "python",
   "nbconvert_exporter": "python",
   "pygments_lexer": "ipython2",
   "version": "2.7.12"
  },
  "widgets": {
   "state": {},
   "version": "1.1.2"
  }
 },
 "nbformat": 4,
 "nbformat_minor": 0
}
